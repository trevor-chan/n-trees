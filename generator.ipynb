{
 "cells": [
  {
   "cell_type": "code",
   "execution_count": null,
   "metadata": {},
   "outputs": [],
   "source": [
    "import matplotlib.pyplot as plt\n",
    "import numpy as np\n",
    "import time\n",
    "import tqdm\n",
    "from numba import njit, prange\n",
    "\n",
    "import generator\n",
    "import fast_generator\n",
    "from cmaps import *"
   ]
  },
  {
   "cell_type": "markdown",
   "metadata": {},
   "source": [
    "# Generating a forest"
   ]
  },
  {
   "cell_type": "code",
   "execution_count": null,
   "metadata": {},
   "outputs": [],
   "source": [
    "forest = fast_generator.generate_forest(9,2,temp=1.5, maxiter=1000000)"
   ]
  },
  {
   "cell_type": "code",
   "execution_count": null,
   "metadata": {},
   "outputs": [],
   "source": [
    "fast_generator.plot_forest(forest, solution=True, cmap=desert_cmap())"
   ]
  },
  {
   "cell_type": "markdown",
   "metadata": {},
   "source": [
    "# Depth first search of a simple forest"
   ]
  },
  {
   "cell_type": "code",
   "execution_count": null,
   "metadata": {},
   "outputs": [],
   "source": [
    "trees = fast_generator.plant_trees(6, 1, maxiter = 1000000)\n",
    "plt.imshow(trees)"
   ]
  },
  {
   "cell_type": "code",
   "execution_count": null,
   "metadata": {},
   "outputs": [],
   "source": [
    "start = time.time()\n",
    "singular_roots = fast_generator.generate_singular_roots(trees)\n",
    "print(f\"time = {time.time() - start}\")\n",
    "plt.imshow(singular_roots)"
   ]
  },
  {
   "cell_type": "code",
   "execution_count": null,
   "metadata": {},
   "outputs": [],
   "source": [
    "start = time.time()\n",
    "solutions, visited = generator.place_tree(singular_roots)\n",
    "print(f\"time = {time.time() - start}\")\n",
    "\n",
    "if len(solutions) == 1:\n",
    "    plt.imshow(solution)\n",
    "else:\n",
    "    fig, ax = plt.subplots(1, len(solutions), figsize=(len(solutions)*2, 2))\n",
    "    for i,solution in enumerate(solutions):\n",
    "        ax[i].imshow(solution)\n",
    "        ax[i].set_xticks([])\n",
    "        ax[i].set_yticks([])\n",
    "    plt.show()"
   ]
  },
  {
   "cell_type": "markdown",
   "metadata": {},
   "source": [
    "# Components of forest generation"
   ]
  },
  {
   "cell_type": "code",
   "execution_count": null,
   "metadata": {},
   "outputs": [],
   "source": [
    "trees = fast_generator.plant_trees(14, 2, maxiter = 1000000)\n",
    "\n",
    "plt.imshow(trees)"
   ]
  },
  {
   "cell_type": "code",
   "execution_count": null,
   "metadata": {},
   "outputs": [],
   "source": [
    "singular_roots = fast_generator.generate_singular_roots(trees)\n",
    "plt.imshow(singular_roots)"
   ]
  },
  {
   "cell_type": "code",
   "execution_count": null,
   "metadata": {},
   "outputs": [],
   "source": [
    "adj_mat = fast_generator.adj_mat_from_roots(singular_roots)\n",
    "plt.imshow(adj_mat)"
   ]
  },
  {
   "cell_type": "code",
   "execution_count": null,
   "metadata": {},
   "outputs": [],
   "source": [
    "roots = fast_generator.merge_roots(singular_roots, temp=1.5, maxiter=1000000)"
   ]
  },
  {
   "cell_type": "code",
   "execution_count": null,
   "metadata": {},
   "outputs": [],
   "source": [
    "forest = np.stack((trees,roots))"
   ]
  },
  {
   "cell_type": "code",
   "execution_count": null,
   "metadata": {},
   "outputs": [],
   "source": [
    "fast_generator.plot_forest(forest, solution=True, cmap=desert_cmap())"
   ]
  }
 ],
 "metadata": {
  "kernelspec": {
   "display_name": "Python 3",
   "language": "python",
   "name": "python3"
  },
  "language_info": {
   "codemirror_mode": {
    "name": "ipython",
    "version": 3
   },
   "file_extension": ".py",
   "mimetype": "text/x-python",
   "name": "python",
   "nbconvert_exporter": "python",
   "pygments_lexer": "ipython3",
   "version": "3.11.8"
  }
 },
 "nbformat": 4,
 "nbformat_minor": 2
}
