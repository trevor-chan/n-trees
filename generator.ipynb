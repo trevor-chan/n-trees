{
 "cells": [
  {
   "cell_type": "code",
   "execution_count": 609,
   "metadata": {},
   "outputs": [],
   "source": [
    "import matplotlib.pyplot as plt\n",
    "import numpy as np\n",
    "import time\n",
    "import tqdm"
   ]
  },
  {
   "cell_type": "code",
   "execution_count": 4,
   "metadata": {},
   "outputs": [],
   "source": [
    "def plot_forest(dimensions, groupings, trees):\n",
    "    forest = np.zeros(dimensions)\n",
    "    for i,group in enumerate(groupings):\n",
    "        forest[group[0], group[1]] = i\n",
    "\n",
    "    x = np.linspace(0, 1, 3)\n",
    "    y = np.linspace(0, 1, 3)\n",
    "\n",
    "    fig, ax = plt.subplots()\n",
    "\n",
    "    ax.set_aspect('equal', 'box')\n",
    "    plt.tick_params(left = False, right = False , labelleft = False , \n",
    "                    labelbottom = False, bottom = False)\n",
    "    ax.pcolormesh(x, y, forest)\n",
    "    \n",
    "\n",
    "def is_contiguous(indices):\n",
    "    # Check if indices list is empty\n",
    "    if len(indices) == 0:\n",
    "        return False\n",
    "    \n",
    "    # Convert indices to NumPy array for easier manipulation\n",
    "    indices_array = np.array(indices)\n",
    "    \n",
    "    # Calculate differences between consecutive indices\n",
    "    diff = np.diff(indices_array, axis=0)\n",
    "    \n",
    "    # Check if any difference is greater than 1\n",
    "    if np.any(diff > 1):\n",
    "        return False\n",
    "    else:\n",
    "        return True    "
   ]
  },
  {
   "cell_type": "code",
   "execution_count": 5,
   "metadata": {},
   "outputs": [],
   "source": [
    "def generate_random_array(size, n=1):\n",
    "    # Create an empty array of zeros\n",
    "    array = np.zeros((size, size), dtype=int)\n",
    "    col_indices = np.arange(size)\n",
    "    # Generate random indices for placing ones\n",
    "    # Place ones in each row and column\n",
    "    for i in range(size):\n",
    "        np.random.shuffle(col_indices)\n",
    "        array[i, col_indices[0:n]] = 1\n",
    "    \n",
    "    return array\n",
    "\n",
    "def adjacents(array, kernel):\n",
    "    expanded_array = conv2d(array, kernel)\n",
    "    return expanded_array\n",
    "\n",
    "def find_adjacents(array):\n",
    "    kernel = np.ones((3, 3), dtype=int)\n",
    "    return np.where((adjacents(array, kernel) - array) * array > 0, 1, 0)\n",
    "\n",
    "def conv2d(a, f):\n",
    "    a = np.pad(a, ((1,1),(1,1)), mode='constant', constant_values=(0,0))\n",
    "    s = f.shape + tuple(np.subtract(a.shape, f.shape) + 1)\n",
    "    strd = np.lib.stride_tricks.as_strided\n",
    "    subM = strd(a, shape = s, strides = a.strides * 2)\n",
    "    return np.einsum('ij,ijkl->kl', f, subM)\n",
    "\n",
    "def find_available(array, n=1):\n",
    "    kernel = np.ones((3, 3), dtype=int)\n",
    "    opens_rowcol = array.copy()\n",
    "    opens_rowcol[np.argwhere(np.where(np.sum(array, axis=1) > n-1, 1, 0)),:] = 1\n",
    "    opens_rowcol[:,np.argwhere(np.where(np.sum(array, axis=0) > n-1, 1, 0))] = 1\n",
    "    opens_nonadjacent = np.where(opens_rowcol + adjacents(array, kernel) > 0, 0, 1)\n",
    "    opens_rowcol = np.where(opens_rowcol > 0, 0, 1)\n",
    "    return opens_nonadjacent, opens_rowcol\n",
    "\n",
    "def find_collisions(array, n=1):\n",
    "    collisions = array.copy()\n",
    "    collides = np.broadcast_to(np.where(np.sum(array, axis=0) > n, 1, 0), (array.shape[1], array.shape[0])) + np.broadcast_to(np.where(np.sum(array, axis=1) > n, 1, 0), array.shape).T + find_adjacents(array)\n",
    "    collisions = np.where(collisions * collides > 0, 1, 0)\n",
    "    return collisions\n",
    "    \n",
    "def shuffle_once(array, n=1):\n",
    "    collisions = find_collisions(array, n=n)\n",
    "    if np.any(collisions):\n",
    "        collision_list = np.argwhere(collisions)\n",
    "        opens_nonadjacent, opens_rowcol = find_available(array, n=n)\n",
    "    else:\n",
    "        return array, True\n",
    "    if np.any(opens_nonadjacent):\n",
    "        opens_list = np.argwhere(opens_nonadjacent)\n",
    "    elif np.any(opens_rowcol):\n",
    "        opens_list = np.argwhere(opens_rowcol)\n",
    "    else:\n",
    "        # print('no opens, perform random shuffle?')\n",
    "        j = np.random.randint(0, len(collision_list))\n",
    "        not_occupied = np.argwhere(np.where(array == 1, 0, 1))\n",
    "        i = np.random.randint(0, len(not_occupied))\n",
    "        array[collision_list[j][0], collision_list[j][1]] = 0\n",
    "        array[not_occupied[i][0], not_occupied[i][1]] = 1\n",
    "        return array, False\n",
    "\n",
    "    i = np.random.randint(0, len(opens_list))\n",
    "    j = np.random.randint(0, len(collision_list))\n",
    "    # print(f\"{collision_list[j]} > {opens_list[i]}\")\n",
    "    array[collision_list[j][0], collision_list[j][1]] = 0\n",
    "    array[opens_list[i][0], opens_list[i][1]] = 1\n",
    "    return array, False\n",
    "\n",
    "def shuffle_until_complete(array, max_iters = 500, n=1):\n",
    "    count = 0\n",
    "    done = 0\n",
    "    while not done:\n",
    "        array, done = shuffle_once(array, n=n)\n",
    "        count += 1\n",
    "        if count > max_iters:\n",
    "            break\n",
    "    if done:\n",
    "        print(f'completed in {count} iterations')\n",
    "    else:\n",
    "        print(f'exited early after {count} iterations')\n",
    "    return array\n",
    "\n",
    "def generate_tree_array(size, n=1):\n",
    "    array = generate_random_array(size, n=n)\n",
    "    array = shuffle_until_complete(array, n=n)\n",
    "    return array"
   ]
  },
  {
   "cell_type": "code",
   "execution_count": 6,
   "metadata": {},
   "outputs": [],
   "source": [
    "def get_adj_vals(array, i, j):\n",
    "    adj_vals = []\n",
    "    if i > 0:\n",
    "        adj_vals.append(array[i-1, j])\n",
    "    if i < array.shape[0] - 1:\n",
    "        adj_vals.append(array[i+1, j])\n",
    "    if j > 0:\n",
    "        adj_vals.append(array[i, j-1])\n",
    "    if j < array.shape[1] - 1:\n",
    "        adj_vals.append(array[i, j+1])\n",
    "    adj_vals = [x for x in adj_vals if x != 0]\n",
    "    adj_vals = np.unique(np.array(adj_vals))\n",
    "    return adj_vals\n",
    "\n",
    "\n",
    "def get_initial_forest(trees):\n",
    "    forest = np.zeros_like(trees)\n",
    "    for i,tree in enumerate(np.argwhere(trees)):\n",
    "        forest[tree[0], tree[1]] = i+1\n",
    "    return forest\n",
    "\n",
    "def grow_forest(forest, trees):\n",
    "    kernel = np.array([[0, 1, 0], [1, 0, 1], [0, 1, 0]], dtype=int)\n",
    "    adjs = np.where(adjacents(np.where(forest>0,1,0), kernel=kernel) * np.where(forest==0, 1, 0)>0, 1, 0)\n",
    "    adjs_list = np.argwhere(adjs)\n",
    "    i = np.random.randint(0, len(adjs_list))\n",
    "    val = get_adj_vals(forest, adjs_list[i][0], adjs_list[i][1])\n",
    "    forest[adjs_list[i][0], adjs_list[i][1]] = val[np.random.randint(0, val.shape[0])]\n",
    "    return forest\n",
    "\n",
    "def generate_singular_forest(trees):\n",
    "    # for tree in trees, assing each a value from 1 to n\n",
    "    # choose an empty index at random, find the list of adjacent values, choose one at random, set index to that value\n",
    "    # need to check that the minimum number of indices for each class is met, and that the number of indices for each class is not exceeded\n",
    "    # for extrapolation to n tree problems, first derive singular regions for each tree, then merge regions based on adjacency:\n",
    "        # probably derive an adjacency graph and then solve the merge problem and reassign indices to preserve exact tree condition\n",
    "    forest = get_initial_forest(trees)\n",
    "    \n",
    "    while np.any(np.where(forest == 0, 1, 0)):\n",
    "        forest = grow_forest(forest, trees)\n",
    "        \n",
    "    return forest\n",
    "\n",
    "def i_to_index(i, size):\n",
    "    return (i // size, i % size)\n",
    "\n",
    "def index_to_i(index, size):\n",
    "    return index[0] * size + index[1]\n",
    "\n",
    "def increment_index(index, size):\n",
    "    if index[1] == size - 1:\n",
    "        if index[0] == size - 1:\n",
    "            return None\n",
    "        return (index[0] + 1, 0)\n",
    "    else:\n",
    "        return (index[0], index[1] + 1)\n",
    "    \n",
    "def find_available_forest(trees, forest, visited):\n",
    "    kernel = np.ones((3, 3), dtype=int)\n",
    "    opens = trees.copy()\n",
    "    opens[np.argwhere(np.where(np.sum(trees, axis=1) > 0, 1, 0)),:] = 1\n",
    "    opens[:,np.argwhere(np.where(np.sum(trees, axis=0) > 0, 1, 0))] = 1\n",
    "    opens = np.where(opens + adjacents(trees, kernel) + visited > 0, 0, 1)\n",
    "    for new_idx in np.argwhere(opens): # check if there is already a tree in the region\n",
    "        region = forest[new_idx[0], new_idx[1]]\n",
    "        if np.any(trees * np.where(forest == region, 1, 0)):\n",
    "            opens[new_idx[0], new_idx[1]] = 0\n",
    "    return opens\n",
    "        \n",
    "        \n",
    "def place_tree(forest, visited=None, trees_pred=None, solutions=None):\n",
    "    if trees_pred is None:\n",
    "        trees_pred = np.zeros_like(forest)\n",
    "    if solutions is None:\n",
    "        solutions = []\n",
    "    if visited is None:\n",
    "        visited = np.zeros_like(forest)\n",
    "        \n",
    "    # plt.imshow(trees_pred)\n",
    "    # plt.show()\n",
    "    # time.sleep(1)\n",
    "        \n",
    "    # find available indices\n",
    "    avail = find_available_forest(trees_pred, forest, visited)\n",
    "    if np.any(avail):\n",
    "        for avail_index in np.argwhere(avail):\n",
    "            new_trees_pred = trees_pred.copy()\n",
    "            new_trees_pred[avail_index[0], avail_index[1]] = 1\n",
    "            result = place_tree(forest, visited, new_trees_pred, solutions)\n",
    "            if result is not None:\n",
    "                solutions = result[0]\n",
    "                visited = result[1]\n",
    "        if len(solutions) > 0:\n",
    "            return solutions, visited\n",
    "        else:\n",
    "            return None\n",
    "    else:\n",
    "        if np.sum(trees_pred) == forest.shape[0]:\n",
    "            solutions.append(trees_pred)\n",
    "            visited = np.where(visited + trees_pred > 0, 1, 0)\n",
    "            # print('solution found')\n",
    "            return solutions, visited\n",
    "        else:\n",
    "            return None\n",
    "    \n",
    "    "
   ]
  },
  {
   "cell_type": "code",
   "execution_count": 433,
   "metadata": {},
   "outputs": [],
   "source": [
    "def get_conflicting(array, i, j):\n",
    "    adj_indices = []\n",
    "    if i > 0 and j > 0:\n",
    "        adj_indices.append([i-1, j-1])\n",
    "    if i < array.shape[0] - 1 and j < array.shape[1] - 1:\n",
    "        adj_indices.append([i+1, j+1])\n",
    "    if j > 0 and i < array.shape[0] - 1:\n",
    "        adj_indices.append([i+1, j-1])\n",
    "    if j < array.shape[1] - 1 and i > 0:\n",
    "        adj_indices.append([i-1, j+1])\n",
    "        \n",
    "    conflicting = np.ones_like(array)\n",
    "    for adj_index in adj_indices:\n",
    "        conflicting[adj_index[0], adj_index[1]] = 0\n",
    "    conflicting[i,:] = 0\n",
    "    conflicting[:,j] = 0\n",
    "    return conflicting\n",
    "\n",
    "def adjacents(array, kernel):\n",
    "    expanded_array = conv2d(array, kernel)\n",
    "    return expanded_array\n",
    "\n",
    "def find_adjacents(array):\n",
    "    kernel = np.ones((3, 3), dtype=int)\n",
    "    return np.where((adjacents(array, kernel) - array) * array > 0, 1, 0)\n",
    "\n",
    "def conv2d(a, f):\n",
    "    a = np.pad(a, ((1,1),(1,1)), mode='constant', constant_values=(0,0))\n",
    "    s = f.shape + tuple(np.subtract(a.shape, f.shape) + 1)\n",
    "    strd = np.lib.stride_tricks.as_strided\n",
    "    subM = strd(a, shape = s, strides = a.strides * 2)\n",
    "    return np.einsum('ij,ijkl->kl', f, subM)\n",
    "\n",
    "def find_available(array, n=1):\n",
    "    kernel = np.ones((3, 3), dtype=int)\n",
    "    opens_rowcol = array.copy()\n",
    "    opens_rowcol[np.argwhere(np.where(np.sum(array, axis=1) > n-1, 1, 0)),:] = 1\n",
    "    opens_rowcol[:,np.argwhere(np.where(np.sum(array, axis=0) > n-1, 1, 0))] = 1\n",
    "    opens_nonadjacent = np.where(opens_rowcol + adjacents(array, kernel) > 0, 0, 1)\n",
    "    return opens_nonadjacent\n",
    "\n",
    "def find_collisions(array, n=1):\n",
    "    collisions = array.copy()\n",
    "    collides = np.broadcast_to(np.where(np.sum(array, axis=0) > n, 1, 0), (array.shape[1], array.shape[0])) + np.broadcast_to(np.where(np.sum(array, axis=1) > n, 1, 0), array.shape).T + find_adjacents(array)\n",
    "    collisions = np.where(collisions * collides > 0, 1, 0)\n",
    "    return collisions\n",
    "    \n",
    "def shuffle_once(array, n=1):\n",
    "    collisions = find_collisions(array, n=n)\n",
    "    if np.any(collisions):\n",
    "        collision_list = np.argwhere(collisions)\n",
    "        opens_nonadjacent, opens_rowcol = find_available(array, n=n)\n",
    "    else:\n",
    "        return array, True\n",
    "    if np.any(opens_nonadjacent):\n",
    "        opens_list = np.argwhere(opens_nonadjacent)\n",
    "    elif np.any(opens_rowcol):\n",
    "        opens_list = np.argwhere(opens_rowcol)\n",
    "    else:\n",
    "        # print('no opens, perform random shuffle?')\n",
    "        j = np.random.randint(0, len(collision_list))\n",
    "        not_occupied = np.argwhere(np.where(array == 1, 0, 1))\n",
    "        i = np.random.randint(0, len(not_occupied))\n",
    "        array[collision_list[j][0], collision_list[j][1]] = 0\n",
    "        array[not_occupied[i][0], not_occupied[i][1]] = 1\n",
    "        return array, False\n",
    "\n",
    "    i = np.random.randint(0, len(opens_list))\n",
    "    j = np.random.randint(0, len(collision_list))\n",
    "    # print(f\"{collision_list[j]} > {opens_list[i]}\")\n",
    "    array[collision_list[j][0], collision_list[j][1]] = 0\n",
    "    array[opens_list[i][0], opens_list[i][1]] = 1\n",
    "    return array, False\n",
    "\n",
    "def shuffle_until_complete(array, max_iters = 500, n=1):\n",
    "    count = 0\n",
    "    done = 0\n",
    "    while not done:\n",
    "        array, done = shuffle_once(array, n=n)\n",
    "        count += 1\n",
    "        if count > max_iters:\n",
    "            break\n",
    "    if done:\n",
    "        print(f'completed in {count} iterations')\n",
    "    else:\n",
    "        print(f'exited early after {count} iterations')\n",
    "    return array\n",
    "\n",
    "def generate_tree_array(size, n=1):\n",
    "    array = generate_random_array(size, n=n)\n",
    "    array = shuffle_until_complete(array, n=n)\n",
    "    return array\n",
    "        \n",
    "def grow_tree_array(m, n, maxiter = 1000000):\n",
    "    trees = np.zeros((m,m), dtype=int)\n",
    "    count = 0\n",
    "    with tqdm.tqdm(total=maxiter) as pbar:\n",
    "        while np.sum(trees) < n*m and count < maxiter:\n",
    "            avail = find_available(trees, n=n)\n",
    "            if np.any(avail):\n",
    "                avail_list = np.argwhere(avail)\n",
    "                i = np.random.randint(0, avail_list.shape[0])\n",
    "                trees[avail_list[i][0], avail_list[i][1]] = 1\n",
    "                continue\n",
    "            else:\n",
    "                opens = np.where(trees == 0, 1, 0)\n",
    "                opens_list = np.argwhere(opens)\n",
    "                i = np.random.randint(0, opens_list.shape[0])\n",
    "                \n",
    "                trees = trees * get_conflicting(trees, opens_list[i][0], opens_list[i][1])            \n",
    "                trees[opens_list[i][0], opens_list[i][1]] = 1\n",
    "            count += 1\n",
    "            if count % 1000 == 0:\n",
    "                pbar.update(1000)\n",
    "            \n",
    "    pbar.close()\n",
    "    if count < maxiter:\n",
    "        print(f'completed in {count} iterations')\n",
    "        return trees\n",
    "    else:\n",
    "        print(f'exited early after {count} iterations')\n",
    "        return 0\n",
    "        \n",
    "        "
   ]
  },
  {
   "cell_type": "code",
   "execution_count": 434,
   "metadata": {},
   "outputs": [
    {
     "name": "stderr",
     "output_type": "stream",
     "text": [
      "  0%|          | 0/1000000 [00:00<?, ?it/s]"
     ]
    },
    {
     "name": "stdout",
     "output_type": "stream",
     "text": [
      "completed in 160 iterations\n"
     ]
    },
    {
     "name": "stderr",
     "output_type": "stream",
     "text": [
      "\n"
     ]
    },
    {
     "data": {
      "text/plain": [
       "array([[0, 0, 0, 0, 1, 0, 1, 0, 0, 0],\n",
       "       [0, 1, 0, 0, 0, 0, 0, 0, 1, 0],\n",
       "       [0, 0, 0, 1, 0, 1, 0, 0, 0, 0],\n",
       "       [1, 0, 0, 0, 0, 0, 0, 0, 1, 0],\n",
       "       [0, 0, 1, 0, 1, 0, 0, 0, 0, 0],\n",
       "       [1, 0, 0, 0, 0, 0, 1, 0, 0, 0],\n",
       "       [0, 0, 1, 0, 0, 0, 0, 0, 0, 1],\n",
       "       [0, 0, 0, 0, 0, 1, 0, 1, 0, 0],\n",
       "       [0, 1, 0, 1, 0, 0, 0, 0, 0, 0],\n",
       "       [0, 0, 0, 0, 0, 0, 0, 1, 0, 1]])"
      ]
     },
     "execution_count": 434,
     "metadata": {},
     "output_type": "execute_result"
    }
   ],
   "source": [
    "grow_tree_array(10, 2, maxiter = 1000000)"
   ]
  },
  {
   "cell_type": "code",
   "execution_count": 437,
   "metadata": {},
   "outputs": [
    {
     "name": "stderr",
     "output_type": "stream",
     "text": [
      " 38%|███▊      | 378000/1000000 [01:38<02:41, 3849.23it/s]"
     ]
    },
    {
     "name": "stdout",
     "output_type": "stream",
     "text": [
      "completed in 378011 iterations\n"
     ]
    },
    {
     "name": "stderr",
     "output_type": "stream",
     "text": [
      "\n"
     ]
    },
    {
     "data": {
      "text/plain": [
       "<matplotlib.image.AxesImage at 0x16dcc9b90>"
      ]
     },
     "execution_count": 437,
     "metadata": {},
     "output_type": "execute_result"
    },
    {
     "data": {
      "image/png": "[encoded data removed]",
      "text/plain": [
       "<Figure size 640x480 with 1 Axes>"
      ]
     },
     "metadata": {},
     "output_type": "display_data"
    }
   ],
   "source": [
    "plt.imshow(grow_tree_array(14, 3, maxiter = 1000000))"
   ]
  },
  {
   "cell_type": "code",
   "execution_count": 438,
   "metadata": {},
   "outputs": [
    {
     "name": "stdout",
     "output_type": "stream",
     "text": [
      "time = 0.0007958412170410156\n"
     ]
    },
    {
     "data": {
      "text/plain": [
       "<matplotlib.image.AxesImage at 0x1769c67d0>"
      ]
     },
     "execution_count": 438,
     "metadata": {},
     "output_type": "execute_result"
    },
    {
     "data": {
      "image/png": "[encoded data removed]",
      "text/plain": [
       "<Figure size 640x480 with 1 Axes>"
      ]
     },
     "metadata": {},
     "output_type": "display_data"
    }
   ],
   "source": [
    "start = time.time()\n",
    "singular_forest = generate_singular_forest(trees)\n",
    "print(f\"time = {time.time() - start}\")\n",
    "plt.imshow(singular_forest)"
   ]
  },
  {
   "cell_type": "code",
   "execution_count": 36,
   "metadata": {},
   "outputs": [
    {
     "name": "stdout",
     "output_type": "stream",
     "text": [
      "time = 0.01349186897277832\n"
     ]
    },
    {
     "data": {
      "image/png": "[encoded data removed]",
      "text/plain": [
       "<Figure size 640x480 with 1 Axes>"
      ]
     },
     "metadata": {},
     "output_type": "display_data"
    }
   ],
   "source": [
    "start = time.time()\n",
    "solutions, visited = place_tree(singular_forest)\n",
    "print(f\"time = {time.time() - start}\")\n",
    "for solution in solutions:\n",
    "    plt.imshow(solution)\n",
    "    plt.show()"
   ]
  },
  {
   "cell_type": "code",
   "execution_count": 10,
   "metadata": {},
   "outputs": [
    {
     "data": {
      "text/plain": [
       "[array([[0, 1, 0, 0],\n",
       "        [0, 0, 0, 1],\n",
       "        [1, 0, 0, 0],\n",
       "        [0, 0, 1, 0]]),\n",
       " array([[0, 0, 1, 0],\n",
       "        [1, 0, 0, 0],\n",
       "        [0, 0, 0, 1],\n",
       "        [0, 1, 0, 0]])]"
      ]
     },
     "execution_count": 10,
     "metadata": {},
     "output_type": "execute_result"
    }
   ],
   "source": [
    "solutions"
   ]
  },
  {
   "cell_type": "code",
   "execution_count": 466,
   "metadata": {},
   "outputs": [
    {
     "name": "stderr",
     "output_type": "stream",
     "text": [
      "  0%|          | 0/1000000 [00:00<?, ?it/s]"
     ]
    },
    {
     "name": "stdout",
     "output_type": "stream",
     "text": [
      "completed in 605 iterations\n"
     ]
    },
    {
     "name": "stderr",
     "output_type": "stream",
     "text": [
      "\n"
     ]
    },
    {
     "data": {
      "text/plain": [
       "<matplotlib.image.AxesImage at 0x176fdd350>"
      ]
     },
     "execution_count": 466,
     "metadata": {},
     "output_type": "execute_result"
    },
    {
     "data": {
      "image/png": "[encoded data removed]",
      "text/plain": [
       "<Figure size 640x480 with 1 Axes>"
      ]
     },
     "metadata": {},
     "output_type": "display_data"
    }
   ],
   "source": [
    "trees = grow_tree_array(9, 2, maxiter = 1000000)\n",
    "\n",
    "plt.imshow(trees)"
   ]
  },
  {
   "cell_type": "code",
   "execution_count": 467,
   "metadata": {},
   "outputs": [
    {
     "name": "stdout",
     "output_type": "stream",
     "text": [
      "time = 0.007445096969604492\n"
     ]
    },
    {
     "data": {
      "text/plain": [
       "<matplotlib.image.AxesImage at 0x177049a90>"
      ]
     },
     "execution_count": 467,
     "metadata": {},
     "output_type": "execute_result"
    },
    {
     "data": {
      "image/png": "[encoded data removed]",
      "text/plain": [
       "<Figure size 640x480 with 1 Axes>"
      ]
     },
     "metadata": {},
     "output_type": "display_data"
    }
   ],
   "source": [
    "start = time.time()\n",
    "singular_forest = generate_singular_forest(trees)\n",
    "print(f\"time = {time.time() - start}\")\n",
    "plt.imshow(singular_forest)"
   ]
  },
  {
   "cell_type": "code",
   "execution_count": 468,
   "metadata": {},
   "outputs": [],
   "source": [
    "def generate_singular_forest(trees):\n",
    "    forest = get_initial_forest(trees)\n",
    "    \n",
    "    while np.any(np.where(forest == 0, 1, 0)):\n",
    "        forest = grow_forest(forest, trees)\n",
    "        \n",
    "    return forest\n",
    "\n",
    "def calc_adjacency_list(forest):\n",
    "    adj_list = []\n",
    "    for region in np.unique(forest):\n",
    "        for index in np.argwhere(forest == region):\n",
    "            adj_vals = get_adj_vals(forest, index[0], index[1])\n",
    "            for val in adj_vals:\n",
    "                adj_list.append((region, val))\n",
    "    adj_list = list(set(adj_list))\n",
    "    adj_list = sorted(adj_list, key=lambda x: x[0] * forest.shape[0] + x[1])\n",
    "    return adj_list\n",
    "\n",
    "\n",
    "def generate_nforest(trees):\n",
    "    n = np.sum(trees)//trees.shape[0]\n",
    "    forest = get_initial_forest(trees)\n",
    "    \n",
    "    adjacency_list = calc_adjacency_list(forest)\n",
    "    \n",
    "    while np.any(np.where(forest == 0, 1, 0)):\n",
    "        forest = grow_forest(forest, trees)\n",
    "        \n",
    "    return forest\n",
    "\n",
    "\n",
    "def adj_list_to_matrix(adjacency_list):\n",
    "    adj_matrix = np.zeros((adjacency_list[-1][0], adjacency_list[-1][1]))\n",
    "    for edge in adjacency_list:\n",
    "        adj_matrix[edge[0]-1, edge[1]-1] = 1\n",
    "    return adj_matrix\n",
    "\n",
    "def merge_regions(adjacency_list):\n",
    "    done = 0\n",
    "    while not done:\n",
    "        merged = []\n",
    "        shuffled_list = np.array(adjacency_list.copy())\n",
    "        np.random.shuffle(shuffled_list)\n",
    "        for edge in list(shuffled_list):\n",
    "            if edge[0] == edge[1]:\n",
    "                continue\n",
    "            if edge[0] in merged or edge[1] in merged:\n",
    "                continue\n",
    "            else:\n",
    "                merged.append(edge[0])\n",
    "                merged.append(edge[1])\n",
    "        if len(merged) == max(adjacency_list, key=lambda x: x[0])[0]:\n",
    "            done = 1\n",
    "        else:\n",
    "            print('failed')\n",
    "    return merged"
   ]
  },
  {
   "cell_type": "code",
   "execution_count": 469,
   "metadata": {},
   "outputs": [],
   "source": [
    "adjacency_list = calc_adjacency_list(singular_forest)"
   ]
  },
  {
   "cell_type": "code",
   "execution_count": 548,
   "metadata": {},
   "outputs": [
    {
     "data": {
      "text/plain": [
       "array([5., 3., 7., 5., 4., 6., 7., 4., 4., 7., 7., 5., 4., 5., 5., 4., 2.,\n",
       "       5.])"
      ]
     },
     "execution_count": 548,
     "metadata": {},
     "output_type": "execute_result"
    }
   ],
   "source": [
    "adj_mat = adj_list_to_matrix(adjacency_list)\n",
    "np.sum(adj_mat, axis=0)\n"
   ]
  },
  {
   "cell_type": "code",
   "execution_count": 549,
   "metadata": {},
   "outputs": [
    {
     "data": {
      "text/plain": [
       "<matplotlib.image.AxesImage at 0x2a0de6350>"
      ]
     },
     "execution_count": 549,
     "metadata": {},
     "output_type": "execute_result"
    },
    {
     "data": {
      "image/png": "[encoded data removed]",
      "text/plain": [
       "<Figure size 640x480 with 1 Axes>"
      ]
     },
     "metadata": {},
     "output_type": "display_data"
    }
   ],
   "source": [
    "plt.imshow(adj_list_to_matrix(adjacency_list))"
   ]
  },
  {
   "cell_type": "code",
   "execution_count": 473,
   "metadata": {},
   "outputs": [],
   "source": [
    "def calc_merges(adjacency_list, n=2, maxiter = 100000):\n",
    "    done = 0\n",
    "    count = 0\n",
    "    while not done:\n",
    "        merged = []\n",
    "        shuffled_list = np.array(adjacency_list.copy())\n",
    "        np.random.shuffle(shuffled_list)\n",
    "        for edge in list(shuffled_list):\n",
    "            \n",
    "            # Do: for every merge step, check if it disconnects the graph: if so, don't merge\n",
    "            # checking if the graph is disconnected can be done on the adjacency matrix, if the identity is subtracted,\n",
    "            # then any column that contains only zeros is a disconnected region - taking the product of column sums will reveal this\n",
    "            \n",
    "            if edge[0] == edge[1]:\n",
    "                continue\n",
    "            if edge[0] in merged or edge[1] in merged:\n",
    "                continue\n",
    "            else:\n",
    "                merged.append(edge[0])\n",
    "                merged.append(edge[1])\n",
    "            \n",
    "            if n > 2: # for n > 2, keep adding an adjacent region until we reach n,\n",
    "                for i in range(n-2):\n",
    "                    for j in shuffled_list:\n",
    "                        if j[0] == edge[0] or j[0] == edge[1]:\n",
    "                            if j[0] not in merged:\n",
    "                                merged.append(j[0])\n",
    "                                break\n",
    "                        if j[1] == edge[0] or j[1] == edge[1]:\n",
    "                            if j[1] not in merged:\n",
    "                                merged.append(j[1])\n",
    "                                break\n",
    "            \n",
    "            \n",
    "            \n",
    "        if len(merged) == max(adjacency_list, key=lambda x: x[0])[0]:\n",
    "            done = 1\n",
    "        else:\n",
    "            count += 1\n",
    "            if count > maxiter:\n",
    "                print(f'failed after {count} iterations')\n",
    "                return 0\n",
    "            if count % 1000 == 0:\n",
    "                print(f'count = {count}')\n",
    "    merged = [tuple(merged[i:i+n]) for i in range(0, len(merged), n)]\n",
    "    print(f'merge pattern found after {count} iterations')\n",
    "    return merged\n",
    "\n",
    "def merge_forest(forest, adjacency_list):\n",
    "    n = np.amax(forest)//forest.shape[0]\n",
    "    merged = calc_merges(adjacency_list, n)\n",
    "    if merged == 0:\n",
    "        return 0\n",
    "    new_forest = np.zeros_like(forest)\n",
    "    for i,merge in enumerate(merged):\n",
    "        for j in range(n):\n",
    "            new_forest = np.where(forest == merge[j], i+1, new_forest)\n",
    "    return new_forest"
   ]
  },
  {
   "cell_type": "code",
   "execution_count": 474,
   "metadata": {},
   "outputs": [
    {
     "data": {
      "text/plain": [
       "<matplotlib.image.AxesImage at 0x1771b2910>"
      ]
     },
     "execution_count": 474,
     "metadata": {},
     "output_type": "execute_result"
    },
    {
     "data": {
      "image/png": "[encoded data removed]",
      "text/plain": [
       "<Figure size 640x480 with 1 Axes>"
      ]
     },
     "metadata": {},
     "output_type": "display_data"
    }
   ],
   "source": [
    "plt.imshow(singular_forest, cmap='tab20')"
   ]
  },
  {
   "cell_type": "code",
   "execution_count": 475,
   "metadata": {},
   "outputs": [
    {
     "name": "stdout",
     "output_type": "stream",
     "text": [
      "merge pattern found after 1 iterations\n"
     ]
    }
   ],
   "source": [
    "merged = merge_forest(singular_forest, adjacency_list)"
   ]
  },
  {
   "cell_type": "code",
   "execution_count": 476,
   "metadata": {},
   "outputs": [
    {
     "data": {
      "image/png": "[encoded data removed]",
      "text/plain": [
       "<Figure size 640x480 with 1 Axes>"
      ]
     },
     "metadata": {},
     "output_type": "display_data"
    }
   ],
   "source": [
    "plt.imshow(merged, cmap='tab20')\n",
    "plt.imshow(trees, alpha=0.1, cmap='Reds')\n",
    "plt.show()"
   ]
  },
  {
   "cell_type": "code",
   "execution_count": 477,
   "metadata": {},
   "outputs": [
    {
     "data": {
      "text/plain": [
       "<matplotlib.image.AxesImage at 0x17727dd50>"
      ]
     },
     "execution_count": 477,
     "metadata": {},
     "output_type": "execute_result"
    },
    {
     "data": {
      "image/png": "[encoded data removed]",
      "text/plain": [
       "<Figure size 640x480 with 1 Axes>"
      ]
     },
     "metadata": {},
     "output_type": "display_data"
    }
   ],
   "source": [
    "plt.imshow(merged, cmap='tab20')"
   ]
  },
  {
   "cell_type": "code",
   "execution_count": 478,
   "metadata": {},
   "outputs": [],
   "source": [
    "def calc_merges(adjacency_list, n=2, maxiter = 100000):\n",
    "    done = 0\n",
    "    count = 0\n",
    "    merged = []\n",
    "    adj_mat = adj_list_to_matrix(adjacency_list)\n",
    "    # degrees = np.sum(adj_mat, axis=0)\n",
    "    \n",
    "    ordered_indices = np.argsort(np.sum(adj_matrix, axis=0))\n",
    "    while not done:\n",
    "        for index in list(ordered_indices):\n",
    "            for adj_region in range(n):\n",
    "                for edge in adjacency_list:\n",
    "            \n",
    "            \n",
    "            if edge[0] == edge[1]:\n",
    "                continue\n",
    "            if edge[0] in merged or edge[1] in merged:\n",
    "                continue\n",
    "            else:\n",
    "                merged.append(edge[0])\n",
    "                merged.append(edge[1])\n",
    "            \n",
    "            if n > 2:\n",
    "        merged = []\n",
    "        adj_mat = adj_list_to_matrix(adjacency_list)\n",
    "        # degrees = np.sum(adj_mat, axis=0)\n",
    "        \n",
    "        ordered_indices = np.argsort(np.sum(adj_matrix, axis=0))\n",
    "        merged = [tuple(merged[i:i+n]) for i in range(0, len(merged), n)]\n",
    "        \n",
    "    print(f'merge pattern found after {count} iterations')\n",
    "    return merged"
   ]
  },
  {
   "cell_type": "code",
   "execution_count": 479,
   "metadata": {},
   "outputs": [],
   "source": [
    "def plot_forest(forest, trees, solution = False, cmap='tab20'):\n",
    "    x = np.linspace(0, forest.shape[0]-1, forest.shape[0])\n",
    "    y = np.linspace(0, forest.shape[1]-1, forest.shape[1])\n",
    "    fig, ax = plt.subplots(figsize=(5, 5), dpi=150)\n",
    "\n",
    "    ax.set_aspect('equal', 'box')\n",
    "    plt.tick_params(left = False, right = False , labelleft = False , \n",
    "                    labelbottom = False, bottom = False)\n",
    "    ax.pcolormesh(x, y, forest, cmap=cmap, edgecolors='white', linewidths=150/1024/32)\n",
    "    \n",
    "    if solution:\n",
    "        ax.scatter(np.argwhere(trees)[:,1], np.argwhere(trees)[:,0], color='k', marker='*', s=50, zorder=10)"
   ]
  },
  {
   "cell_type": "code",
   "execution_count": 480,
   "metadata": {},
   "outputs": [
    {
     "data": {
      "image/png": "[encoded data removed]",
      "text/plain": [
       "<Figure size 750x750 with 1 Axes>"
      ]
     },
     "metadata": {},
     "output_type": "display_data"
    }
   ],
   "source": [
    "plot_forest(merged, trees, solution=True)"
   ]
  },
  {
   "cell_type": "code",
   "execution_count": null,
   "metadata": {},
   "outputs": [],
   "source": [
    "\n",
    "\n",
    "\n"
   ]
  },
  {
   "cell_type": "code",
   "execution_count": 559,
   "metadata": {},
   "outputs": [],
   "source": [
    "adj_matrix = adj_list_to_matrix(adjacency_list)"
   ]
  },
  {
   "cell_type": "code",
   "execution_count": 560,
   "metadata": {},
   "outputs": [
    {
     "data": {
      "text/plain": [
       "array([ 0.,  3., 14., 15., 16., 30., 42., 28., 32., 63., 70., 55., 48.,\n",
       "       65., 70., 60., 32., 85.])"
      ]
     },
     "execution_count": 560,
     "metadata": {},
     "output_type": "execute_result"
    }
   ],
   "source": [
    "np.sum(adj_matrix * np.arange(adj_matrix.shape[0]), axis=0)"
   ]
  },
  {
   "cell_type": "code",
   "execution_count": 561,
   "metadata": {},
   "outputs": [
    {
     "data": {
      "text/plain": [
       "array([ 0,  1,  2,  3,  4,  7,  5, 16,  8,  6, 12, 11, 15,  9, 13, 10, 14,\n",
       "       17])"
      ]
     },
     "execution_count": 561,
     "metadata": {},
     "output_type": "execute_result"
    }
   ],
   "source": [
    "np.argsort(np.sum(adj_matrix * np.arange(adj_matrix.shape[0]), axis=0))"
   ]
  },
  {
   "cell_type": "code",
   "execution_count": 562,
   "metadata": {},
   "outputs": [
    {
     "data": {
      "text/plain": [
       "<matplotlib.image.AxesImage at 0x2a10adc50>"
      ]
     },
     "execution_count": 562,
     "metadata": {},
     "output_type": "execute_result"
    },
    {
     "data": {
      "image/png": "[encoded data removed]",
      "text/plain": [
       "<Figure size 640x480 with 1 Axes>"
      ]
     },
     "metadata": {},
     "output_type": "display_data"
    }
   ],
   "source": [
    "plt.imshow(adj_matrix)"
   ]
  },
  {
   "cell_type": "code",
   "execution_count": 589,
   "metadata": {},
   "outputs": [
    {
     "data": {
      "text/plain": [
       "array([ 0,  1,  2,  3,  4,  7,  5, 16,  8,  6, 12, 11, 15,  9, 13, 10, 14,\n",
       "       17])"
      ]
     },
     "execution_count": 589,
     "metadata": {},
     "output_type": "execute_result"
    }
   ],
   "source": [
    "np.argsort(np.sum(a * np.arange(a.shape[0]), axis=0))"
   ]
  },
  {
   "cell_type": "code",
   "execution_count": 608,
   "metadata": {},
   "outputs": [
    {
     "data": {
      "text/plain": [
       "<matplotlib.image.AxesImage at 0x2a242dd50>"
      ]
     },
     "execution_count": 608,
     "metadata": {},
     "output_type": "execute_result"
    },
    {
     "data": {
      "image/png": "[encoded data removed]",
      "text/plain": [
       "<Figure size 640x480 with 1 Axes>"
      ]
     },
     "metadata": {},
     "output_type": "display_data"
    }
   ],
   "source": [
    "a = adj_matrix #* np.tri(adj_matrix.shape[0], k=-1)#- np.eye(adj_matrix.shape[0])\n",
    "b = a[[np.argsort(np.sum(a * np.arange(a.shape[0]), axis=0)), np.argsort(np.sum(a * np.arange(a.shape[0]), axis=0))]]\n",
    "# c = b[:,np.argsort(np.sum(a * np.arange(a.shape[0]), axis=1))]\n",
    "plt.imshow(b[0])\n",
    "# plt.imshow(a)"
   ]
  },
  {
   "cell_type": "code",
   "execution_count": 596,
   "metadata": {},
   "outputs": [
    {
     "data": {
      "text/plain": [
       "(2, 2, 18)"
      ]
     },
     "execution_count": 596,
     "metadata": {},
     "output_type": "execute_result"
    }
   ],
   "source": [
    "a[[[0,1],[0,1]]].shape"
   ]
  },
  {
   "cell_type": "code",
   "execution_count": 592,
   "metadata": {},
   "outputs": [
    {
     "data": {
      "text/plain": [
       "array([[1., 0., 1., 0., 1., 0., 1., 0., 1., 0., 0., 0., 0., 0., 0., 0.,\n",
       "        0., 0.],\n",
       "       [0., 1., 1., 1., 0., 0., 0., 0., 0., 0., 0., 0., 0., 0., 0., 0.,\n",
       "        0., 0.],\n",
       "       [1., 1., 1., 1., 1., 1., 1., 0., 0., 0., 0., 0., 0., 0., 0., 0.,\n",
       "        0., 0.],\n",
       "       [0., 1., 1., 1., 0., 1., 0., 1., 0., 0., 0., 0., 0., 0., 0., 0.,\n",
       "        0., 0.],\n",
       "       [1., 0., 1., 0., 1., 0., 1., 0., 0., 0., 0., 0., 0., 0., 0., 0.,\n",
       "        0., 0.],\n",
       "       [0., 0., 1., 1., 0., 1., 1., 1., 0., 0., 0., 1., 0., 0., 0., 0.,\n",
       "        0., 0.],\n",
       "       [1., 0., 1., 0., 1., 1., 1., 0., 0., 1., 1., 0., 0., 0., 0., 0.,\n",
       "        0., 0.],\n",
       "       [0., 0., 0., 1., 0., 1., 0., 1., 0., 0., 0., 1., 0., 0., 0., 0.,\n",
       "        0., 0.],\n",
       "       [1., 0., 0., 0., 0., 0., 0., 0., 1., 1., 0., 0., 1., 0., 0., 0.,\n",
       "        0., 0.],\n",
       "       [0., 0., 0., 0., 0., 0., 1., 0., 1., 1., 1., 0., 1., 1., 0., 0.,\n",
       "        0., 1.],\n",
       "       [0., 0., 0., 0., 0., 0., 1., 0., 0., 1., 1., 1., 0., 1., 1., 1.,\n",
       "        0., 0.],\n",
       "       [0., 0., 0., 0., 0., 1., 0., 1., 0., 0., 1., 1., 0., 0., 0., 1.,\n",
       "        0., 0.],\n",
       "       [0., 0., 0., 0., 0., 0., 0., 0., 1., 1., 0., 0., 1., 0., 0., 0.,\n",
       "        1., 0.],\n",
       "       [0., 0., 0., 0., 0., 0., 0., 0., 0., 1., 1., 0., 0., 1., 1., 0.,\n",
       "        0., 1.],\n",
       "       [0., 0., 0., 0., 0., 0., 0., 0., 0., 0., 1., 0., 0., 1., 1., 1.,\n",
       "        0., 1.],\n",
       "       [0., 0., 0., 0., 0., 0., 0., 0., 0., 0., 1., 1., 0., 0., 1., 1.,\n",
       "        0., 0.],\n",
       "       [0., 0., 0., 0., 0., 0., 0., 0., 0., 0., 0., 0., 1., 0., 0., 0.,\n",
       "        0., 1.],\n",
       "       [0., 0., 0., 0., 0., 0., 0., 0., 0., 1., 0., 0., 0., 1., 1., 0.,\n",
       "        1., 1.]])"
      ]
     },
     "execution_count": 592,
     "metadata": {},
     "output_type": "execute_result"
    }
   ],
   "source": [
    "a"
   ]
  },
  {
   "cell_type": "code",
   "execution_count": 558,
   "metadata": {},
   "outputs": [
    {
     "data": {
      "text/plain": [
       "array([16,  1,  8, 15,  4, 12,  7, 14, 13, 11,  0,  3, 17,  5,  9,  6,  2,\n",
       "       10])"
      ]
     },
     "execution_count": 558,
     "metadata": {},
     "output_type": "execute_result"
    }
   ],
   "source": [
    "np.argsort(np.array(a).mean(0))"
   ]
  },
  {
   "cell_type": "code",
   "execution_count": null,
   "metadata": {},
   "outputs": [],
   "source": []
  }
 ],
 "metadata": {
  "kernelspec": {
   "display_name": "Python 3",
   "language": "python",
   "name": "python3"
  },
  "language_info": {
   "codemirror_mode": {
    "name": "ipython",
    "version": 3
   },
   "file_extension": ".py",
   "mimetype": "text/x-python",
   "name": "python",
   "nbconvert_exporter": "python",
   "pygments_lexer": "ipython3",
   "version": "3.11.8"
  }
 },
 "nbformat": 4,
 "nbformat_minor": 2
}
