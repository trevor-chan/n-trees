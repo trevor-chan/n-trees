{
 "cells": [
  {
   "cell_type": "code",
   "execution_count": 2,
   "metadata": {},
   "outputs": [],
   "source": [
    "import sys\n",
    "sys.path.append('../n-trees/')\n",
    "sys.path.append('../utils/')\n",
    "import numpy as np\n",
    "import torch\n",
    "import matplotlib.pyplot as plt\n",
    "\n",
    "from torch.utils.data import DataLoader\n",
    "import datasets\n",
    "import loss\n",
    "import models_tests\n",
    "import training_loop\n",
    "import utils\n",
    "import fast_generator\n",
    "\n",
    "device = torch.device('cuda')\n",
    "# device = torch.device('cpu')"
   ]
  },
  {
   "cell_type": "markdown",
   "metadata": {},
   "source": [
    "# Training"
   ]
  },
  {
   "cell_type": "code",
   "execution_count": 3,
   "metadata": {},
   "outputs": [],
   "source": [
    "# Create the dataset\n",
    "# dataset = datasets.ForestDataset(10, 2, temp=1, maxiter=10000, size=100000)"
   ]
  },
  {
   "cell_type": "code",
   "execution_count": 3,
   "metadata": {},
   "outputs": [],
   "source": [
    "# torch.save(dataset, '../datasets/dataset_15_2_1e5.pt')\n",
    "# dataset = torch.load('../datasets/dataset_6_1_1e5.pt')\n",
    "dataset = torch.load('../datasets/dataset_10_2_1e6.pt')\n",
    "# dataset = torch.load('../datasets/dataset_15_2_1e5.pt')"
   ]
  },
  {
   "cell_type": "code",
   "execution_count": 4,
   "metadata": {},
   "outputs": [],
   "source": [
    "# Create the loss function\n",
    "# loss_fn = loss.EntropyLoss(P_factor=20)\n",
    "loss_fn = loss.ConditionalEntropyLoss(P_factor=15)"
   ]
  },
  {
   "cell_type": "code",
   "execution_count": 5,
   "metadata": {},
   "outputs": [],
   "source": [
    "# Create the model\n",
    "# model = models.EntropyPrecond(\n",
    "#     n=dataset.n,\n",
    "#     d=dataset.d,\n",
    "#     model=models.MLP(dataset.n, dataset.d),\n",
    "# )\n",
    "\n",
    "# model = models.ConditionalEntropyPrecond(\n",
    "#     n=dataset.n,\n",
    "#     d=dataset.d,\n",
    "#     model=models.ConditionalMLP(dataset.n, \n",
    "#                                 dataset.d,\n",
    "#                                 dropout             = 0.10,         # Dropout probability of intermediate activations.\n",
    "#                                 num_hidden          = 8,            # Number of layers in the MLP.\n",
    "#                                 hidden_size         = 4096,          # Hidden layer size.\n",
    "#                                 embedding_type      = 'positional', # Timestep embedding type: 'positional' for DDPM++, 'fourier' for NCSN++.\n",
    "#                                 embedding_channels  = 128,          # Number of channels in the timestep embedding.    \n",
    "#                                 )\n",
    "# )\n",
    "\n",
    "# model = models.ConditionalEntropyPrecond(\n",
    "#     n=dataset.n,\n",
    "#     d=dataset.d,\n",
    "#     model =  models.ConditionalAttention(dataset.n, \n",
    "#                                         dataset.d,                                # Number of color channels at input.\n",
    "#                                         dropout             = 0.10,         # Dropout probability of intermediate activations.\n",
    "#                                         num_heads           = 32,            # Number of layers in the MLP.\n",
    "#                                         model_dimension     = 2048,          # Hidden layer size.\n",
    "#                                         num_encoder_layers  = 16,\n",
    "#                                         embedding_type      = 'positional', # Timestep embedding type: 'positional' for DDPM++, 'fourier' for NCSN++.\n",
    "#                                         embedding_channels  = 128,          # Number of channels in the timestep embedding.\n",
    "#                                     )\n",
    "# )\n",
    "\n",
    "model = models_tests.ConditionalEntropyPrecond(\n",
    "    n=dataset.n,\n",
    "    d=dataset.d,\n",
    "    model =  models_tests.TestingConditionalAttention(dataset.n, \n",
    "                                        dataset.d,                                # Number of color channels at input.\n",
    "                                        dropout             = 0.10,         # Dropout probability of intermediate activations.\n",
    "                                        num_heads           = 8,            # Number of layers in the MLP.\n",
    "                                        model_dimension     = 256,          # Hidden layer size.\n",
    "                                        num_encoder_layers  = 4,\n",
    "                                        embedding_type      = 'positional', # Timestep embedding type: 'positional' for DDPM++, 'fourier' for NCSN++.\n",
    "                                        embedding_channels  = 128,          # Number of channels in the timestep embedding.\n",
    "                                    )\n",
    ")"
   ]
  },
  {
   "cell_type": "code",
   "execution_count": 6,
   "metadata": {},
   "outputs": [],
   "source": [
    "# Create the optimizer\n",
    "optimizer = torch.optim.AdamW(model.parameters(), lr=0.000001, betas=(0.9, 0.999), eps=1e-08, weight_decay=0.005)"
   ]
  },
  {
   "cell_type": "code",
   "execution_count": 7,
   "metadata": {},
   "outputs": [
    {
     "name": "stdout",
     "output_type": "stream",
     "text": [
      "Loading dataset...\n"
     ]
    },
    {
     "name": "stderr",
     "output_type": "stream",
     "text": [
      "/home/trevor/miniconda3/envs/ntrees/lib/python3.11/site-packages/torch/utils/data/sampler.py:64: UserWarning: `data_source` argument is not used and will be removed in 2.2.0.You may still have custom implementation that utilizes it.\n",
      "  warnings.warn(\"`data_source` argument is not used and will be removed in 2.2.0.\"\n"
     ]
    },
    {
     "name": "stdout",
     "output_type": "stream",
     "text": [
      "Constructing network...\n",
      "Setting up optimizer...\n",
      "Setting up logs...\n",
      "Training for 2000000 kimg...\n",
      "\n",
      "tick 7813, loss 1.5796, std 9.3178, time 993.99 sec\n",
      "tick 15626, loss 0.9127, std 6.8754, time 998.25 sec\n",
      "tick 23439, loss 0.8151, std 6.4380, time 994.52 sec\n",
      "tick 31252, loss 0.7496, std 6.0079, time 997.15 sec\n",
      "tick 39065, loss 0.7037, std 5.7302, time 999.43 sec\n",
      "tick 46878, loss 0.6635, std 5.4362, time 998.37 sec\n",
      "tick 54691, loss 0.6340, std 5.2571, time 992.59 sec\n",
      "tick 62504, loss 0.6070, std 5.0822, time 996.50 sec\n",
      "tick 70317, loss 0.5851, std 4.9142, time 992.26 sec\n"
     ]
    },
    {
     "ename": "KeyboardInterrupt",
     "evalue": "",
     "output_type": "error",
     "traceback": [
      "\u001b[0;31m---------------------------------------------------------------------------\u001b[0m",
      "\u001b[0;31mKeyboardInterrupt\u001b[0m                         Traceback (most recent call last)",
      "Cell \u001b[0;32mIn[7], line 2\u001b[0m\n\u001b[1;32m      1\u001b[0m \u001b[38;5;66;03m# Train\u001b[39;00m\n\u001b[0;32m----> 2\u001b[0m training_loop\u001b[38;5;241m.\u001b[39msimple_training_loop(\n\u001b[1;32m      3\u001b[0m     run_dir             \u001b[38;5;241m=\u001b[39m \u001b[38;5;124m'\u001b[39m\u001b[38;5;124m../experiments/test10_attention\u001b[39m\u001b[38;5;124m'\u001b[39m,      \u001b[38;5;66;03m# Output directory.\u001b[39;00m\n\u001b[1;32m      4\u001b[0m     dataset             \u001b[38;5;241m=\u001b[39m dataset,      \u001b[38;5;66;03m# Options for training set.\u001b[39;00m\n\u001b[1;32m      5\u001b[0m     network             \u001b[38;5;241m=\u001b[39m model,        \u001b[38;5;66;03m# Options for model and preconditioning.\u001b[39;00m\n\u001b[1;32m      6\u001b[0m     loss                \u001b[38;5;241m=\u001b[39m loss_fn,      \u001b[38;5;66;03m# Options for loss function.\u001b[39;00m\n\u001b[1;32m      7\u001b[0m     optimizer           \u001b[38;5;241m=\u001b[39m optimizer,    \u001b[38;5;66;03m# Options for optimizer.\u001b[39;00m\n\u001b[1;32m      8\u001b[0m     seed                \u001b[38;5;241m=\u001b[39m \u001b[38;5;241m0\u001b[39m,            \u001b[38;5;66;03m# Global random seed.\u001b[39;00m\n\u001b[1;32m      9\u001b[0m     batch_size          \u001b[38;5;241m=\u001b[39m \u001b[38;5;241m128\u001b[39m,          \u001b[38;5;66;03m# Total batch size for one training iteration.\u001b[39;00m\n\u001b[1;32m     10\u001b[0m     num_workers         \u001b[38;5;241m=\u001b[39m \u001b[38;5;241m16\u001b[39m,           \u001b[38;5;66;03m# Number of data loading workers.\u001b[39;00m\n\u001b[1;32m     11\u001b[0m     total_kimg          \u001b[38;5;241m=\u001b[39m \u001b[38;5;241m2000000\u001b[39m,      \u001b[38;5;66;03m# Training duration, measured in thousands of training images.\u001b[39;00m\n\u001b[1;32m     12\u001b[0m     device              \u001b[38;5;241m=\u001b[39m device,\n\u001b[1;32m     13\u001b[0m     kimg_per_tick       \u001b[38;5;241m=\u001b[39m \u001b[38;5;241m1000\u001b[39m,          \u001b[38;5;66;03m# How often to save the training state.\u001b[39;00m\n\u001b[1;32m     14\u001b[0m )\n",
      "File \u001b[0;32m~/repos/n-trees/discrete/training_loop.py:74\u001b[0m, in \u001b[0;36msimple_training_loop\u001b[0;34m(run_dir, dataset, network, loss, optimizer, seed, batch_size, num_workers, total_kimg, device, kimg_per_tick)\u001b[0m\n\u001b[1;32m     71\u001b[0m optimizer\u001b[38;5;241m.\u001b[39mzero_grad(set_to_none\u001b[38;5;241m=\u001b[39m\u001b[38;5;28;01mTrue\u001b[39;00m)\n\u001b[1;32m     73\u001b[0m data, prior \u001b[38;5;241m=\u001b[39m \u001b[38;5;28mnext\u001b[39m(dataset_iterator)\n\u001b[0;32m---> 74\u001b[0m data \u001b[38;5;241m=\u001b[39m data\u001b[38;5;241m.\u001b[39mto(device)\u001b[38;5;241m.\u001b[39mto(torch\u001b[38;5;241m.\u001b[39mfloat32)\n\u001b[1;32m     75\u001b[0m prior \u001b[38;5;241m=\u001b[39m prior\u001b[38;5;241m.\u001b[39mto(device)\u001b[38;5;241m.\u001b[39mto(torch\u001b[38;5;241m.\u001b[39mfloat32)\n\u001b[1;32m     76\u001b[0m \u001b[38;5;66;03m# loss = loss_fn(net=net, data=data)\u001b[39;00m\n",
      "\u001b[0;31mKeyboardInterrupt\u001b[0m: "
     ]
    }
   ],
   "source": [
    "# Train\n",
    "training_loop.simple_training_loop(\n",
    "    run_dir             = '../experiments/test10_attention',      # Output directory.\n",
    "    dataset             = dataset,      # Options for training set.\n",
    "    network             = model,        # Options for model and preconditioning.\n",
    "    loss                = loss_fn,      # Options for loss function.\n",
    "    optimizer           = optimizer,    # Options for optimizer.\n",
    "    seed                = 0,            # Global random seed.\n",
    "    batch_size          = 128,          # Total batch size for one training iteration.\n",
    "    num_workers         = 16,           # Number of data loading workers.\n",
    "    total_kimg          = 2000000,      # Training duration, measured in thousands of training images.\n",
    "    device              = device,\n",
    "    kimg_per_tick       = 1000,          # How often to save the training state.\n",
    ")"
   ]
  },
  {
   "cell_type": "markdown",
   "metadata": {},
   "source": [
    "# Inference"
   ]
  },
  {
   "cell_type": "code",
   "execution_count": 5,
   "metadata": {},
   "outputs": [],
   "source": [
    "# model = torch.load('../experiments/test01/training-state-100000.pt')['net'].to(device).eval()\n",
    "# model = torch.load('../experiments/test05/training-state-100000.pt')['net'].to(device).eval()\n",
    "model = torch.load('../experiments/test12_attention/training-state-300000.pt')['net'].to(device).eval()"
   ]
  },
  {
   "cell_type": "code",
   "execution_count": 6,
   "metadata": {},
   "outputs": [
    {
     "name": "stderr",
     "output_type": "stream",
     "text": [
      "100%|██████████| 100/100 [01:42<00:00,  1.02s/it]\n"
     ]
    }
   ],
   "source": [
    "test_dataset = datasets.ForestDataset(10, 2, 1, 10000, 100)\n",
    "# test_dataset = datasets.ForestDataset(6, 1, 1, 10000, 100)"
   ]
  },
  {
   "cell_type": "code",
   "execution_count": 29,
   "metadata": {},
   "outputs": [
    {
     "name": "stdout",
     "output_type": "stream",
     "text": [
      "tensor([[[0.0202]]], device='cuda:0')\n"
     ]
    }
   ],
   "source": [
    "data, prior = test_dataset[0]\n",
    "data = data.to(device).to(torch.float32).reshape(1, data.shape[0], data.shape[1])\n",
    "prior = prior.to(device).to(torch.float32).reshape(1, prior.shape[0], prior.shape[1], prior.shape[2])\n",
    "\n",
    "rnd_normal = torch.randn([data.shape[0],1,1], device=data.device) * 1\n",
    "p = rnd_normal.exp()\n",
    "p = (p / 20).clamp(0, 1) / 2 # clamp flip probability to [0,0.5]\n",
    "\n",
    "# beta = torch.distributions.beta.Beta(1.3, 4)\n",
    "# p = beta.sample([data.shape[0],1,1]).to(data.device) / 2\n",
    "\n",
    "\n",
    "weight = 1 / (2 * p) # weight for loss function for balancing preconditioning loss potentially not needed\n",
    "y = data\n",
    "n = torch.bernoulli(torch.ones_like(y) * (1 - p)) * 2 - 1 # noise equal to a bit flip occuring with probability p\n",
    "n = n.to(torch.float32)\n",
    "D_yn = model(y * n, prior, p)\n",
    "\n",
    "\n",
    "print(p)"
   ]
  },
  {
   "cell_type": "code",
   "execution_count": 30,
   "metadata": {},
   "outputs": [
    {
     "data": {
      "text/plain": [
       "<matplotlib.image.AxesImage at 0x77e5c7cbfcd0>"
      ]
     },
     "execution_count": 30,
     "metadata": {},
     "output_type": "execute_result"
    },
    {
     "data": {
      "image/png": "[encoded data removed]",
      "text/plain": [
       "<Figure size 2500x500 with 6 Axes>"
      ]
     },
     "metadata": {},
     "output_type": "display_data"
    }
   ],
   "source": [
    "fig, ax = plt.subplots(1, 6, figsize=(25, 5))\n",
    "\n",
    "ax[0].imshow(data[0].cpu().numpy())\n",
    "ax[1].imshow(n[0].cpu().numpy())\n",
    "ax[2].imshow((y * n)[0].cpu().numpy())\n",
    "ax[3].imshow(D_yn[0].detach().cpu().numpy())\n",
    "ax[4].imshow((D_yn[0].detach()-data[0]).cpu().numpy(), vmin=-0.5, vmax=0.5)\n",
    "ax[5].imshow((torch.argmax(prior[0], dim=0).detach()).abs().cpu().numpy())"
   ]
  },
  {
   "cell_type": "code",
   "execution_count": 31,
   "metadata": {},
   "outputs": [],
   "source": [
    "def entropic_sampler(net, latents, priors=None, num_steps=100, churn = 1, p_min = 0.001, rho=4):\n",
    "    \n",
    "    # Time step discretization.\n",
    "    step_indices = torch.arange(num_steps, dtype=torch.float64, device=latents.device)\n",
    "    t_steps = (0.5 ** (1 / rho) + step_indices / (num_steps - 1) * (p_min ** (1 / rho) - 0.5 ** (1 / rho))) ** rho\n",
    "    t_steps = torch.cat([torch.as_tensor(t_steps), torch.zeros_like(t_steps[:1])]) # t_N = 0\n",
    "    \n",
    "    if priors is not None:\n",
    "        priors = priors.to(torch.float64).to(latents.device)\n",
    "    \n",
    "    x_next = latents.to(torch.float64)\n",
    "    for i, (t_cur, t_next) in enumerate(zip(t_steps[:-1], t_steps[1:])):\n",
    "        x_cur = x_next\n",
    "\n",
    "        if churn > 0: # Removal of churn reduces this to Euler-Maruyama, a churn of 1 is approximately 1% noising at each step\n",
    "            gamma = churn / num_steps if p_min <= t_cur <= 0.5 else 0\n",
    "            t_hat = torch.as_tensor(t_cur + gamma * t_cur)\n",
    "            p_churn = torch.bernoulli(torch.ones_like(latents) * (t_hat - t_cur)) * 2 - 1 # here probabilities follow a simple sum\n",
    "            x_hat = x_cur * p_churn\n",
    "        else:\n",
    "            t_hat = t_cur\n",
    "            x_hat = x_cur\n",
    "            \n",
    "\n",
    "        # Euler step.\n",
    "        if priors is not None:\n",
    "            denoised = net(x_hat, priors, t_hat).to(torch.float64)\n",
    "        else:\n",
    "            denoised = net(x_hat, t_hat).to(torch.float64)\n",
    "        n = torch.bernoulli(((denoised * x_hat * (t_next - 1)) + 1) / 2) * 2 - 1 # flip probability computed with product\n",
    "        x_next = x_hat * n\n",
    "\n",
    "        yield utils.EasyDict(x=x_next, denoised=denoised)\n",
    "    # return x_next"
   ]
  },
  {
   "cell_type": "code",
   "execution_count": 32,
   "metadata": {},
   "outputs": [],
   "source": [
    "# d = 6\n",
    "d = 10\n",
    "latents = torch.bernoulli(torch.ones((1,d,d), device=device) * 0.5) * 2 - 1\n"
   ]
  },
  {
   "cell_type": "code",
   "execution_count": 68,
   "metadata": {},
   "outputs": [],
   "source": [
    "prior = test_dataset[15][1].unsqueeze(0)"
   ]
  },
  {
   "cell_type": "code",
   "execution_count": 75,
   "metadata": {},
   "outputs": [],
   "source": [
    "sampler = entropic_sampler(model, latents, priors=prior, num_steps=500, churn = 0.01, p_min = 0.0001, rho=4)"
   ]
  },
  {
   "cell_type": "code",
   "execution_count": 76,
   "metadata": {},
   "outputs": [],
   "source": [
    "# plt.imshow(next(sampler).denoised.detach().cpu().numpy()[0])"
   ]
  },
  {
   "cell_type": "code",
   "execution_count": 77,
   "metadata": {},
   "outputs": [
    {
     "data": {
      "image/png": "[encoded data removed]",
      "text/plain": [
       "<Figure size 750x750 with 1 Axes>"
      ]
     },
     "metadata": {},
     "output_type": "display_data"
    }
   ],
   "source": [
    "for i in range(500):\n",
    "    forest = np.stack((((next(sampler).denoised.detach().cpu().numpy()[0]+1.3)/2).astype(np.int64), (torch.argmax(prior[0], dim=0).detach()).abs().cpu().numpy()))\n",
    "fast_generator.plot_forest(forest)"
   ]
  },
  {
   "cell_type": "code",
   "execution_count": null,
   "metadata": {},
   "outputs": [],
   "source": [
    "# p sample weighting, log-normal\n",
    "rnd_normal = torch.randn([100000]) * 1.2\n",
    "p = rnd_normal.exp()\n",
    "p = (p / 20).clamp(0, 1)\n",
    "plt.hist(p, bins=500)\n",
    "plt.show()"
   ]
  },
  {
   "cell_type": "code",
   "execution_count": null,
   "metadata": {},
   "outputs": [],
   "source": [
    "beta = torch.distributions.beta.Beta(1.5, 10)\n",
    "p = beta.sample([100000])\n",
    "plt.hist(p, bins=500)\n",
    "plt.show()"
   ]
  },
  {
   "cell_type": "code",
   "execution_count": null,
   "metadata": {},
   "outputs": [],
   "source": [
    "p"
   ]
  },
  {
   "cell_type": "code",
   "execution_count": null,
   "metadata": {},
   "outputs": [],
   "source": []
  }
 ],
 "metadata": {
  "kernelspec": {
   "display_name": "ntrees",
   "language": "python",
   "name": "python3"
  },
  "language_info": {
   "codemirror_mode": {
    "name": "ipython",
    "version": 3
   },
   "file_extension": ".py",
   "mimetype": "text/x-python",
   "name": "python",
   "nbconvert_exporter": "python",
   "pygments_lexer": "ipython3",
   "version": "3.11.8"
  }
 },
 "nbformat": 4,
 "nbformat_minor": 2
}
